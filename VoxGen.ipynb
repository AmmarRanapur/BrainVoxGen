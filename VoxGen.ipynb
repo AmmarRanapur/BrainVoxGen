{
 "cells": [
  {
   "cell_type": "code",
   "execution_count": 1,
   "id": "f1eada3e-1c06-4ad0-b854-02e136211acf",
   "metadata": {
    "tags": []
   },
   "outputs": [],
   "source": [
    "import numpy as np\n",
    "import os\n",
    "import glob\n",
    "import tensorflow as tf\n",
    "import nibabel as nib\n",
    "import matplotlib.pyplot as plt\n",
    "from nilearn import plotting\n",
    "\n",
    "train_path = \"Dataset/train\"\n",
    "test_path = \"Dataset/test\""
   ]
  },
  {
   "cell_type": "code",
   "execution_count": 2,
   "id": "833c6db6-f572-4580-b47b-7fa124bdbce2",
   "metadata": {
    "tags": []
   },
   "outputs": [
    {
     "name": "stdout",
     "output_type": "stream",
     "text": [
      "Num GPUs Available:  0\n"
     ]
    }
   ],
   "source": [
    "print(\"Num GPUs Available: \", len(tf.config.list_physical_devices('GPU')))"
   ]
  },
  {
   "cell_type": "code",
   "execution_count": 3,
   "id": "29a3ffaa-24e3-4f31-ae25-faac9ad33f95",
   "metadata": {
    "tags": []
   },
   "outputs": [
    {
     "name": "stdout",
     "output_type": "stream",
     "text": [
      "Number of MRI images for training: 18\n",
      "Number of ultrasound images for training: 18\n",
      "Number of MRI images for testing: 4\n",
      "Number of ultrasound images for testing: 4\n"
     ]
    }
   ],
   "source": [
    "# Get a list of MRI images for training\n",
    "train_mri_images = [os.path.abspath(path) for path in glob.glob(f'{train_path}/MRI/*.nii')]\n",
    "\n",
    "# Get a list of ultrasound images for training\n",
    "train_ultrasound_images = [os.path.abspath(path) for path in glob.glob(f'{train_path}/US/*.nii')]\n",
    "\n",
    "# Get a list of MRI images for testing\n",
    "test_mri_images = [os.path.abspath(path) for path in glob.glob(f'{test_path}/MRI/*.nii')]\n",
    "\n",
    "# Get a list of ultrasound images for testing\n",
    "test_ultrasound_images = [os.path.abspath(path) for path in glob.glob(f'{test_path}/US/*.nii')]\n",
    "\n",
    "print(\"Number of MRI images for training:\", len(train_mri_images))\n",
    "print(\"Number of ultrasound images for training:\", len(train_ultrasound_images))\n",
    "print(\"Number of MRI images for testing:\", len(test_mri_images))\n",
    "print(\"Number of ultrasound images for testing:\", len(test_ultrasound_images))"
   ]
  },
  {
   "cell_type": "markdown",
   "id": "d315c348-82ee-4f0c-9293-b5815c1ebd78",
   "metadata": {
    "tags": []
   },
   "source": [
    "Ultrasound images from **train** directory will be used as **X** for data, while **MRI** images will be the y label for the dataset. Similarly for **val** dataset, we can evaluate the performance of the trained model by treating the variables in the same manner, where we use the ultrasound data to create a MRI image. "
   ]
  },
  {
   "cell_type": "code",
   "execution_count": 4,
   "id": "064bd63b-9444-45b7-b99c-3ca7eca393ca",
   "metadata": {
    "tags": []
   },
   "outputs": [
    {
     "name": "stdout",
     "output_type": "stream",
     "text": [
      "Number of MRI images for training: 18\n",
      "Shape of MRI image 0: (138, 157, 175)\n",
      "Shape of MRI image 1: (202, 178, 176)\n",
      "Shape of MRI image 2: (181, 188, 185)\n",
      "Shape of MRI image 3: (206, 165, 186)\n",
      "Shape of MRI image 4: (172, 207, 177)\n",
      "Shape of MRI image 5: (157, 191, 127)\n",
      "Shape of MRI image 6: (179, 214, 164)\n",
      "Shape of MRI image 7: (157, 213, 188)\n",
      "Shape of MRI image 8: (187, 165, 204)\n",
      "Shape of MRI image 9: (162, 213, 182)\n",
      "Shape of MRI image 10: (127, 193, 154)\n",
      "Shape of MRI image 11: (124, 157, 169)\n",
      "Shape of MRI image 12: (147, 152, 169)\n",
      "Shape of MRI image 13: (140, 168, 162)\n",
      "Shape of MRI image 14: (152, 199, 125)\n",
      "Shape of MRI image 15: (162, 158, 148)\n",
      "Shape of MRI image 16: (150, 151, 167)\n",
      "Shape of MRI image 17: (203, 185, 167)\n"
     ]
    }
   ],
   "source": [
    "import SimpleITK as sitk\n",
    "import numpy as np\n",
    "import os\n",
    "import glob\n",
    "\n",
    "# Create an empty list to store the numpy arrays\n",
    "train_mri_arrays = []\n",
    "\n",
    "# Loop through each image path, read the image, and append the numpy array to the list\n",
    "for image_path in train_mri_images:\n",
    "    sitk_image = sitk.ReadImage(image_path)\n",
    "    np_image = sitk.GetArrayFromImage(sitk_image)\n",
    "    train_mri_arrays.append(np_image)\n",
    "\n",
    "# Print the number of images and their shapes\n",
    "print(f\"Number of MRI images for training: {len(train_mri_arrays)}\")\n",
    "for i, np_image in enumerate(train_mri_arrays):\n",
    "    print(f\"Shape of MRI image {i}: {np_image.shape}\")"
   ]
  },
  {
   "cell_type": "code",
   "execution_count": 5,
   "id": "e7c0b2ac-c8c9-4bd7-a950-4559ecae99b6",
   "metadata": {
    "tags": []
   },
   "outputs": [
    {
     "name": "stdout",
     "output_type": "stream",
     "text": [
      "Number of Ultrasound images for training: 18\n",
      "Shape of Ultrasound image 0: (138, 158, 175)\n",
      "Shape of Ultrasound image 1: (202, 179, 176)\n",
      "Shape of Ultrasound image 2: (181, 189, 186)\n",
      "Shape of Ultrasound image 3: (207, 166, 186)\n",
      "Shape of Ultrasound image 4: (172, 208, 178)\n",
      "Shape of Ultrasound image 5: (158, 191, 127)\n",
      "Shape of Ultrasound image 6: (180, 215, 164)\n",
      "Shape of Ultrasound image 7: (157, 213, 189)\n",
      "Shape of Ultrasound image 8: (187, 166, 204)\n",
      "Shape of Ultrasound image 9: (162, 214, 183)\n",
      "Shape of Ultrasound image 10: (127, 193, 154)\n",
      "Shape of Ultrasound image 11: (125, 157, 170)\n",
      "Shape of Ultrasound image 12: (148, 153, 170)\n",
      "Shape of Ultrasound image 13: (140, 168, 162)\n",
      "Shape of Ultrasound image 14: (153, 199, 126)\n",
      "Shape of Ultrasound image 15: (163, 158, 148)\n",
      "Shape of Ultrasound image 16: (151, 151, 167)\n",
      "Shape of Ultrasound image 17: (203, 185, 167)\n"
     ]
    }
   ],
   "source": [
    "# Create an empty list to store the numpy arrays\n",
    "train_ultrasound_arrays = []\n",
    "\n",
    "# Loop through each image path, read the image, and append the numpy array to the list\n",
    "for image_path in train_ultrasound_images:\n",
    "    sitk_image = sitk.ReadImage(image_path)\n",
    "    np_image = sitk.GetArrayFromImage(sitk_image)\n",
    "    train_ultrasound_arrays.append(np_image)\n",
    "\n",
    "# Print the number of images and their shapes\n",
    "print(f\"Number of Ultrasound images for training: {len(train_ultrasound_arrays)}\")\n",
    "for i, np_image in enumerate(train_ultrasound_arrays):\n",
    "    print(f\"Shape of Ultrasound image {i}: {np_image.shape}\")"
   ]
  },
  {
   "cell_type": "code",
   "execution_count": 6,
   "id": "f146cff9-5955-494a-9b48-fefe0e0c3e15",
   "metadata": {
    "tags": []
   },
   "outputs": [
    {
     "name": "stdout",
     "output_type": "stream",
     "text": [
      "Number of MRI images for testing: 4\n",
      "Shape of MRI image 0: (202, 178, 176)\n",
      "Shape of MRI image 1: (179, 214, 164)\n",
      "Shape of MRI image 2: (194, 213, 153)\n",
      "Shape of MRI image 3: (147, 152, 169)\n"
     ]
    }
   ],
   "source": [
    "# Create an empty list to store the numpy arrays\n",
    "test_mri_arrays = []\n",
    "\n",
    "# Loop through each image path, read the image, and append the numpy array to the list\n",
    "for image_path in test_mri_images:\n",
    "    sitk_image = sitk.ReadImage(image_path)\n",
    "    \n",
    "    input_img = nib.load(image_path)\n",
    "    input_data = input_img.get_fdata()\n",
    "    \n",
    "    np_image = sitk.GetArrayFromImage(sitk_image)\n",
    "    test_mri_arrays.append(np_image)\n",
    "\n",
    "# Print the number of images and their shapes\n",
    "print(f\"Number of MRI images for testing: {len(test_mri_arrays)}\")\n",
    "for i, np_image in enumerate(test_mri_arrays):\n",
    "    print(f\"Shape of MRI image {i}: {np_image.shape}\")\n"
   ]
  },
  {
   "cell_type": "code",
   "execution_count": 7,
   "id": "668d4491-6b1e-46e6-8b72-bcc3c8f5cc67",
   "metadata": {
    "tags": []
   },
   "outputs": [
    {
     "name": "stdout",
     "output_type": "stream",
     "text": [
      "Number of ultrasound images for testing: 4\n",
      "Shape of ultrasound image 0: (202, 179, 176)\n",
      "Shape of ultrasound image 1: (180, 215, 164)\n",
      "Shape of ultrasound image 2: (195, 213, 154)\n",
      "Shape of ultrasound image 3: (148, 153, 170)\n"
     ]
    }
   ],
   "source": [
    "# Create an empty list to store the numpy arrays\n",
    "test_ultrasound_arrays = []\n",
    "\n",
    "# Loop through each image path, read the image, and append the numpy array to the list\n",
    "for image_path in test_ultrasound_images:\n",
    "    sitk_image = sitk.ReadImage(image_path)\n",
    "    \n",
    "    np_image = sitk.GetArrayFromImage(sitk_image)\n",
    "    test_ultrasound_arrays.append(np_image)\n",
    "\n",
    "# Print the number of images and their shapes\n",
    "print(f\"Number of ultrasound images for testing: {len(test_ultrasound_arrays)}\")\n",
    "for i, np_image in enumerate(test_ultrasound_arrays):\n",
    "    print(f\"Shape of ultrasound image {i}: {np_image.shape}\")\n"
   ]
  },
  {
   "cell_type": "code",
   "execution_count": 8,
   "id": "633e4099-5b34-4e52-8836-1d0cc0f16d17",
   "metadata": {
    "tags": []
   },
   "outputs": [
    {
     "name": "stdout",
     "output_type": "stream",
     "text": [
      "(18, 128, 128, 128)\n",
      "(18, 128, 128, 128)\n",
      "(4, 128, 128, 128)\n",
      "(4, 128, 128, 128)\n"
     ]
    }
   ],
   "source": [
    "import numpy as np\n",
    "from scipy import ndimage\n",
    "\n",
    "# Set the target dimensions\n",
    "x_dim = 128\n",
    "y_dim = 128\n",
    "z_dim = 128\n",
    "\n",
    "resized_train_mri_images = np.zeros((len(train_mri_arrays), x_dim, y_dim, z_dim))\n",
    "resized_train_ultrasound_images = np.zeros((len(train_ultrasound_arrays), x_dim, y_dim, z_dim))\n",
    "\n",
    "# Resize all the training images to the same shape\n",
    "for i, img in enumerate(train_mri_arrays):\n",
    "    resized_train_mri_images[i] = ndimage.zoom(img, (x_dim/img.shape[0], y_dim/img.shape[1], z_dim/img.shape[2]), order=1)\n",
    "for i, img in enumerate(train_ultrasound_arrays):\n",
    "    resized_train_ultrasound_images[i] = ndimage.zoom(img, (x_dim/img.shape[0], y_dim/img.shape[1], z_dim/img.shape[2]), order=1)\n",
    "\n",
    "# Print the shapes of the resized training images to confirm they all have the same shape\n",
    "print(resized_train_mri_images.shape)\n",
    "print(resized_train_ultrasound_images.shape)\n",
    "\n",
    "# Update original training arrays with resized arrays\n",
    "train_mri_arrays = resized_train_mri_images\n",
    "train_ultrasound_arrays = resized_train_ultrasound_images\n",
    "\n",
    "# Free memory of resized arrays\n",
    "del resized_train_mri_images\n",
    "del resized_train_ultrasound_images\n",
    "\n",
    "# Resize test images\n",
    "resized_test_mri_images = np.zeros((len(test_mri_arrays), x_dim, y_dim, z_dim))\n",
    "resized_test_ultrasound_images = np.zeros((len(test_ultrasound_arrays), x_dim, y_dim, z_dim))\n",
    "\n",
    "# Resize all the test images to the same shape\n",
    "for i, img in enumerate(test_mri_arrays):\n",
    "    resized_test_mri_images[i] = ndimage.zoom(img, (x_dim/img.shape[0], y_dim/img.shape[1], z_dim/img.shape[2]), order=1)\n",
    "for i, img in enumerate(test_ultrasound_arrays):\n",
    "    resized_test_ultrasound_images[i] = ndimage.zoom(img, (x_dim/img.shape[0], y_dim/img.shape[1], z_dim/img.shape[2]), order=1)\n",
    "\n",
    "# Print the shapes of the resized test images to confirm they all have the same shape\n",
    "print(resized_test_mri_images.shape)\n",
    "print(resized_test_ultrasound_images.shape)\n",
    "\n",
    "# Update test arrays with resized arrays\n",
    "test_mri_arrays = resized_test_mri_images\n",
    "test_ultrasound_arrays = resized_test_ultrasound_images\n",
    "\n",
    "# Free memory of resized test arrays\n",
    "del resized_test_mri_images\n",
    "del resized_test_ultrasound_images"
   ]
  },
  {
   "cell_type": "code",
   "execution_count": 9,
   "id": "0e9a1801-9e47-4202-afe7-13c44578752b",
   "metadata": {
    "tags": []
   },
   "outputs": [],
   "source": [
    "IMG_HEIGHT = 64\n",
    "IMG_WIDTH = 64\n",
    "IMG_LENGTH = 64"
   ]
  },
  {
   "cell_type": "code",
   "execution_count": 10,
   "id": "960473bb-4ae8-4c7c-b70b-918a8221eeaa",
   "metadata": {
    "tags": []
   },
   "outputs": [],
   "source": [
    "@tf.function()\n",
    "def load(image):\n",
    "    return tf.cast(image, tf.float32)\n",
    "def random_crop(input_image, real_image):\n",
    "    stacked_image = tf.stack([input_image, real_image], axis=0)\n",
    "    cropped_image = tf.image.random_crop(stacked_image, size=[2,IMG_HEIGHT, IMG_WIDTH, IMG_LENGTH])\n",
    "    return cropped_image[0], cropped_image[1]\n",
    "\n",
    "def resize(input_image, real_image, height, width, length):\n",
    "    input_image = tf.image.resize(input_image, [height, width,length],method=tf.image.ResizeMethod.NEAREST_NEIGHBOR)\n",
    "    real_image = tf.image.resize(real_image, [height, width,length],method=tf.image.ResizeMethod.NEAREST_NEIGHBOR)\n",
    "    return input_image, real_image\n",
    "\n",
    "def normalize(input_image, real_image):\n",
    "    input_image = input_image/255\n",
    "    real_image = real_image/255\n",
    "    return input_image, real_image\n",
    "\n",
    "def random_jitter(input_image, real_image):\n",
    "    input_image, real_image = random_crop(input_image, real_image)\n",
    "    if tf.random.uniform(()) > 0.5:\n",
    "    # Random mirroring\n",
    "        input_image = tf.image.flip_left_right(input_image)\n",
    "        real_image = tf.image.flip_left_right(real_image)\n",
    "    return input_image, real_image"
   ]
  },
  {
   "cell_type": "code",
   "execution_count": 11,
   "id": "ab63e336-7def-4cd0-ae24-b44c76ead88e",
   "metadata": {
    "tags": []
   },
   "outputs": [
    {
     "name": "stdout",
     "output_type": "stream",
     "text": [
      "7.3698601722717285 0.0 0.02890141244028129 0.0\n",
      "168.44772338867188 205.49639892578125 0.6605793074065563 0.8058682310814951\n"
     ]
    }
   ],
   "source": [
    "x,y = normalize(train_mri_arrays[0], train_ultrasound_arrays[0])\n",
    "print(train_mri_arrays[0].min(), train_ultrasound_arrays[0].min(), x.min(), y.min())\n",
    "print(train_mri_arrays[0].max(), train_ultrasound_arrays[0].max(), x.max(), y.max())"
   ]
  },
  {
   "cell_type": "code",
   "execution_count": 12,
   "id": "19616220-0868-4c31-8afd-c67cdf5c8fd2",
   "metadata": {
    "tags": []
   },
   "outputs": [],
   "source": [
    "def load_image_train(input_image, real_image):\n",
    "    input_image = load(input_image)\n",
    "    real_image = load(real_image)\n",
    "    input_image, real_image = random_jitter(input_image, real_image)\n",
    "    input_image, real_image = normalize(input_image, real_image)\n",
    "    return input_image, real_image\n",
    "\n",
    "def load_image_test(input_image, real_image):\n",
    "    input_image = load(input_image)\n",
    "    real_image = load(real_image)\n",
    "    input_image, real_image = random_crop(input_image, real_image)\n",
    "    input_image, real_image = normalize(input_image, real_image)\n",
    "    return input_image, real_image"
   ]
  },
  {
   "cell_type": "code",
   "execution_count": 13,
   "id": "08635b4f-afcf-44b2-a83d-8d55d052b0bb",
   "metadata": {
    "tags": []
   },
   "outputs": [
    {
     "name": "stdout",
     "output_type": "stream",
     "text": [
      "144 144\n"
     ]
    }
   ],
   "source": [
    "train_ultrasound_arrays = [item for item in train_ultrasound_arrays for i in range(8)]\n",
    "train_mri_arrays = [item for item in train_mri_arrays for i in range(8)]\n",
    "\n",
    "test_ultrasound_arrays = [item for item in test_ultrasound_arrays for i in range(5)]\n",
    "test_mri_arrays = [item for item in test_mri_arrays for i in range(5)]\n",
    "print(len(train_ultrasound_arrays), len(train_mri_arrays))"
   ]
  },
  {
   "cell_type": "code",
   "execution_count": null,
   "id": "2025ce5d-95e5-4520-8695-975c6d483f8a",
   "metadata": {
    "tags": []
   },
   "outputs": [],
   "source": [
    "train_dataset = tf.data.Dataset.from_tensor_slices((train_ultrasound_arrays, train_mri_arrays))\n",
    "test_dataset = tf.data.Dataset.from_tensor_slices((test_ultrasound_arrays, test_mri_arrays))"
   ]
  },
  {
   "cell_type": "code",
   "execution_count": null,
   "id": "d9be25e8-6454-4ab8-9d5d-482da83a6c4c",
   "metadata": {
    "tags": []
   },
   "outputs": [],
   "source": [
    "BUFFER_SIZE = 64\n",
    "BATCH_SIZE = 8\n",
    "train_dataset = train_dataset.map(load_image_train,num_parallel_calls=tf.data.AUTOTUNE)\n",
    "train_dataset = train_dataset.shuffle(BUFFER_SIZE)\n",
    "train_dataset = train_dataset.batch(BATCH_SIZE)"
   ]
  },
  {
   "cell_type": "code",
   "execution_count": null,
   "id": "03cb6358-56ac-4c95-b13e-9259c08fa9cc",
   "metadata": {
    "tags": []
   },
   "outputs": [],
   "source": [
    "test_dataset = test_dataset.map(load_image_test)\n",
    "test_dataset = test_dataset.batch(BATCH_SIZE)"
   ]
  },
  {
   "cell_type": "code",
   "execution_count": null,
   "id": "5880c107-9799-444b-b3b3-fa9cde4a6415",
   "metadata": {
    "tags": []
   },
   "outputs": [],
   "source": [
    "OUTPUT_CHANNELS = IMG_LENGTH\n",
    "OUTPUT_CHANNELS"
   ]
  },
  {
   "cell_type": "code",
   "execution_count": null,
   "id": "fb975a08-a887-4047-8b62-c5bfd389b65f",
   "metadata": {
    "tags": []
   },
   "outputs": [],
   "source": [
    "def downsample(filters, size, apply_batchnorm=True):\n",
    "    initializer = tf.random_normal_initializer(0., 0.02)\n",
    "    result = tf.keras.Sequential()\n",
    "    result.add(\n",
    "      tf.keras.layers.Conv2D(filters, size, strides=2, padding='same',\n",
    "                             kernel_initializer=initializer, use_bias=False))\n",
    "\n",
    "    if apply_batchnorm:\n",
    "        result.add(tf.keras.layers.BatchNormalization())\n",
    "\n",
    "    result.add(tf.keras.layers.LeakyReLU())\n",
    "    return result"
   ]
  },
  {
   "cell_type": "code",
   "execution_count": null,
   "id": "2f8af87e-32a8-4a76-9f35-59e84afc5c8f",
   "metadata": {
    "tags": []
   },
   "outputs": [],
   "source": [
    "def upsample(filters, size, apply_dropout=False):\n",
    "    initializer = tf.random_normal_initializer(0., 0.02)\n",
    "    result = tf.keras.Sequential()\n",
    "    result.add(\n",
    "    tf.keras.layers.Conv2DTranspose(filters, size, strides=2,\n",
    "                                    padding='same',\n",
    "                                    kernel_initializer=initializer,\n",
    "                                    use_bias=False))\n",
    "    result.add(tf.keras.layers.BatchNormalization())\n",
    "    if apply_dropout:\n",
    "        result.add(tf.keras.layers.Dropout(0.5))\n",
    "    result.add(tf.keras.layers.ReLU())\n",
    "    return result"
   ]
  },
  {
   "cell_type": "code",
   "execution_count": null,
   "id": "8006a03c-56bb-413f-b25e-006c48062214",
   "metadata": {
    "tags": []
   },
   "outputs": [],
   "source": [
    "down_model = downsample(32, 4)\n",
    "down_result = down_model(tf.expand_dims(train_mri_arrays[0], 0))\n",
    "print (down_result.shape)\n",
    "up_model = upsample(32, 4)\n",
    "up_result = up_model(down_result)\n",
    "print (up_result.shape)"
   ]
  },
  {
   "cell_type": "code",
   "execution_count": null,
   "id": "47ecd497-8268-4ea3-814b-70ecd1eb4edb",
   "metadata": {
    "tags": []
   },
   "outputs": [],
   "source": [
    "def Generator():\n",
    "    inputs = tf.keras.layers.Input(shape=[64, 64, 64])\n",
    "\n",
    "    down_stack = [\n",
    "    downsample(32, 4, apply_batchnorm=False),\n",
    "    downsample(64, 4),  # (batch_size, 128, 128, 64)\n",
    "    downsample(128, 4),  # (batch_size, 64, 64, 128)\n",
    "    downsample(256, 4),  # (batch_size, 32, 32, 256)\n",
    "    downsample(512, 4),  # (batch_size, 16, 16, 512)\n",
    "    #downsample(512, 4),  # (batch_size, 8, 8, 512)\n",
    "    #downsample(512, 4),  # (batch_size, 4, 4, 512)\n",
    "    #downsample(512, 4),  # (batch_size, 2, 2, 512)\n",
    "  ]\n",
    "\n",
    "    up_stack = [\n",
    "    #upsample(512, 4, apply_dropout=True),  # (batch_size, 2, 2, 1024)\n",
    "    upsample(512, 4, apply_dropout=True),  # (batch_size, 4, 4, 1024)\n",
    "    upsample(512, 4, apply_dropout=True),  # (batch_size, 8, 8, 1024)\n",
    "    upsample(512, 4),  # (batch_size, 16, 16, 1024)\n",
    "    upsample(256, 4),  # (batch_size, 32, 32, 512)\n",
    "    upsample(128, 4),  # (batch_size, 64, 64, 256)\n",
    "    upsample(64, 4),  # (batch_size, 128, 128, 128)\n",
    "  ]\n",
    "\n",
    "    initializer = tf.random_normal_initializer(0., 0.02)\n",
    "    last = tf.keras.layers.Conv2DTranspose(OUTPUT_CHANNELS, 4,\n",
    "                                         strides=2,\n",
    "                                         padding='same',\n",
    "                                         kernel_initializer=initializer,\n",
    "                                         activation='tanh')  # (batch_size, 256, 256, 3)\n",
    "\n",
    "    x = inputs\n",
    "\n",
    "  # Downsampling through the model\n",
    "    skips = []\n",
    "    for down in down_stack:\n",
    "        x = down(x)\n",
    "        skips.append(x)\n",
    "\n",
    "    skips = reversed(skips[:-1])\n",
    "\n",
    "  # Upsampling and establishing the skip connections\n",
    "    for up, skip in zip(up_stack, skips):\n",
    "        x = up(x)\n",
    "        x = tf.keras.layers.Concatenate()([x, skip])\n",
    "\n",
    "    x = last(x)\n",
    "\n",
    "    return tf.keras.Model(inputs=inputs, outputs=x)"
   ]
  },
  {
   "cell_type": "code",
   "execution_count": 47,
   "id": "887591da-37e0-431d-8265-8fbd5c701bfd",
   "metadata": {
    "tags": []
   },
   "outputs": [
    {
     "name": "stdout",
     "output_type": "stream",
     "text": [
      "You must install pydot (`pip install pydot`) and install graphviz (see instructions at https://graphviz.gitlab.io/download/) for plot_model to work.\n"
     ]
    }
   ],
   "source": [
    "generator = Generator()\n",
    "tf.keras.utils.plot_model(generator, show_shapes=True, dpi=64)"
   ]
  },
  {
   "cell_type": "code",
   "execution_count": 23,
   "id": "e5bc7af5-2382-4b44-9561-79293c4b4e59",
   "metadata": {},
   "outputs": [
    {
     "ename": "ValueError",
     "evalue": "Input 0 of layer \"model\" is incompatible with the layer: expected shape=(None, 32, 32, 32), found shape=(1, 64, 64, 64)",
     "output_type": "error",
     "traceback": [
      "\u001b[1;31m---------------------------------------------------------------------------\u001b[0m",
      "\u001b[1;31mValueError\u001b[0m                                Traceback (most recent call last)",
      "Cell \u001b[1;32mIn[23], line 7\u001b[0m\n\u001b[0;32m      4\u001b[0m     x \u001b[38;5;241m=\u001b[39m US[\u001b[38;5;241m0\u001b[39m]\n\u001b[0;32m      5\u001b[0m     y \u001b[38;5;241m=\u001b[39m MRI[\u001b[38;5;241m0\u001b[39m]\n\u001b[1;32m----> 7\u001b[0m gen_output \u001b[38;5;241m=\u001b[39m \u001b[43mgenerator\u001b[49m\u001b[43m(\u001b[49m\u001b[43mx\u001b[49m\u001b[43m[\u001b[49m\u001b[43mtf\u001b[49m\u001b[38;5;241;43m.\u001b[39;49m\u001b[43mnewaxis\u001b[49m\u001b[43m,\u001b[49m\u001b[43m \u001b[49m\u001b[38;5;241;43m.\u001b[39;49m\u001b[38;5;241;43m.\u001b[39;49m\u001b[38;5;241;43m.\u001b[39;49m\u001b[43m]\u001b[49m\u001b[43m,\u001b[49m\u001b[43m \u001b[49m\u001b[43mtraining\u001b[49m\u001b[38;5;241;43m=\u001b[39;49m\u001b[38;5;28;43;01mFalse\u001b[39;49;00m\u001b[43m)\u001b[49m\n\u001b[0;32m      8\u001b[0m plt\u001b[38;5;241m.\u001b[39mimshow(y[\u001b[38;5;241m20\u001b[39m])\n\u001b[0;32m      9\u001b[0m plt\u001b[38;5;241m.\u001b[39mimshow(gen_output[\u001b[38;5;241m0\u001b[39m, \u001b[38;5;241m.\u001b[39m\u001b[38;5;241m.\u001b[39m\u001b[38;5;241m.\u001b[39m][\u001b[38;5;241m20\u001b[39m])\n",
      "File \u001b[1;32m~\\AppData\\Local\\Programs\\Python\\Python311\\Lib\\site-packages\\keras\\utils\\traceback_utils.py:70\u001b[0m, in \u001b[0;36mfilter_traceback.<locals>.error_handler\u001b[1;34m(*args, **kwargs)\u001b[0m\n\u001b[0;32m     67\u001b[0m     filtered_tb \u001b[38;5;241m=\u001b[39m _process_traceback_frames(e\u001b[38;5;241m.\u001b[39m__traceback__)\n\u001b[0;32m     68\u001b[0m     \u001b[38;5;66;03m# To get the full stack trace, call:\u001b[39;00m\n\u001b[0;32m     69\u001b[0m     \u001b[38;5;66;03m# `tf.debugging.disable_traceback_filtering()`\u001b[39;00m\n\u001b[1;32m---> 70\u001b[0m     \u001b[38;5;28;01mraise\u001b[39;00m e\u001b[38;5;241m.\u001b[39mwith_traceback(filtered_tb) \u001b[38;5;28;01mfrom\u001b[39;00m \u001b[38;5;28;01mNone\u001b[39;00m\n\u001b[0;32m     71\u001b[0m \u001b[38;5;28;01mfinally\u001b[39;00m:\n\u001b[0;32m     72\u001b[0m     \u001b[38;5;28;01mdel\u001b[39;00m filtered_tb\n",
      "File \u001b[1;32m~\\AppData\\Local\\Programs\\Python\\Python311\\Lib\\site-packages\\keras\\engine\\input_spec.py:298\u001b[0m, in \u001b[0;36massert_input_compatibility\u001b[1;34m(input_spec, inputs, layer_name)\u001b[0m\n\u001b[0;32m    296\u001b[0m \u001b[38;5;28;01mif\u001b[39;00m spec_dim \u001b[38;5;129;01mis\u001b[39;00m \u001b[38;5;129;01mnot\u001b[39;00m \u001b[38;5;28;01mNone\u001b[39;00m \u001b[38;5;129;01mand\u001b[39;00m dim \u001b[38;5;129;01mis\u001b[39;00m \u001b[38;5;129;01mnot\u001b[39;00m \u001b[38;5;28;01mNone\u001b[39;00m:\n\u001b[0;32m    297\u001b[0m     \u001b[38;5;28;01mif\u001b[39;00m spec_dim \u001b[38;5;241m!=\u001b[39m dim:\n\u001b[1;32m--> 298\u001b[0m         \u001b[38;5;28;01mraise\u001b[39;00m \u001b[38;5;167;01mValueError\u001b[39;00m(\n\u001b[0;32m    299\u001b[0m             \u001b[38;5;124mf\u001b[39m\u001b[38;5;124m'\u001b[39m\u001b[38;5;124mInput \u001b[39m\u001b[38;5;132;01m{\u001b[39;00minput_index\u001b[38;5;132;01m}\u001b[39;00m\u001b[38;5;124m of layer \u001b[39m\u001b[38;5;124m\"\u001b[39m\u001b[38;5;132;01m{\u001b[39;00mlayer_name\u001b[38;5;132;01m}\u001b[39;00m\u001b[38;5;124m\"\u001b[39m\u001b[38;5;124m is \u001b[39m\u001b[38;5;124m'\u001b[39m\n\u001b[0;32m    300\u001b[0m             \u001b[38;5;124m\"\u001b[39m\u001b[38;5;124mincompatible with the layer: \u001b[39m\u001b[38;5;124m\"\u001b[39m\n\u001b[0;32m    301\u001b[0m             \u001b[38;5;124mf\u001b[39m\u001b[38;5;124m\"\u001b[39m\u001b[38;5;124mexpected shape=\u001b[39m\u001b[38;5;132;01m{\u001b[39;00mspec\u001b[38;5;241m.\u001b[39mshape\u001b[38;5;132;01m}\u001b[39;00m\u001b[38;5;124m, \u001b[39m\u001b[38;5;124m\"\u001b[39m\n\u001b[0;32m    302\u001b[0m             \u001b[38;5;124mf\u001b[39m\u001b[38;5;124m\"\u001b[39m\u001b[38;5;124mfound shape=\u001b[39m\u001b[38;5;132;01m{\u001b[39;00mdisplay_shape(x\u001b[38;5;241m.\u001b[39mshape)\u001b[38;5;132;01m}\u001b[39;00m\u001b[38;5;124m\"\u001b[39m\n\u001b[0;32m    303\u001b[0m         )\n",
      "\u001b[1;31mValueError\u001b[0m: Input 0 of layer \"model\" is incompatible with the layer: expected shape=(None, 32, 32, 32), found shape=(1, 64, 64, 64)"
     ]
    }
   ],
   "source": [
    "x = []\n",
    "y = []\n",
    "for US, MRI in train_dataset.take(1):\n",
    "    x = US[0]\n",
    "    y = MRI[0]\n",
    "    \n",
    "gen_output = generator(x[tf.newaxis, ...], training=False)\n",
    "plt.imshow(y[20])\n",
    "plt.imshow(gen_output[0, ...][20])\n",
    "plt.show()"
   ]
  },
  {
   "cell_type": "code",
   "execution_count": null,
   "id": "011452f2-f550-4b80-b74a-d719f16f2d68",
   "metadata": {
    "tags": []
   },
   "outputs": [],
   "source": [
    "LAMBDA = 100\n",
    "loss_object = tf.keras.losses.BinaryCrossentropy(from_logits=True)\n",
    "def generator_loss(disc_generated_output, gen_output, target):\n",
    "    gan_loss = loss_object(tf.ones_like(disc_generated_output), disc_generated_output)\n",
    "\n",
    "  # Mean absolute error\n",
    "    l1_loss = tf.reduce_mean(tf.abs(target - gen_output))\n",
    "    total_gen_loss = gan_loss + (LAMBDA * l1_loss)\n",
    "\n",
    "    return total_gen_loss, gan_loss, l1_loss"
   ]
  },
  {
   "cell_type": "code",
   "execution_count": null,
   "id": "f205544a-fe79-4d20-bda2-f3cd226cfffc",
   "metadata": {
    "tags": []
   },
   "outputs": [],
   "source": [
    "def Discriminator():\n",
    "    initializer = tf.random_normal_initializer(0., 0.02)\n",
    "    inp = tf.keras.layers.Input(shape=[32, 32, 32], name='input_image')\n",
    "    tar = tf.keras.layers.Input(shape=[32, 32, 32], name='target_image')\n",
    "    x = tf.keras.layers.concatenate([inp, tar])  # (batch_size, 256, 256, channels*2)\n",
    "    down1 = downsample(64, 4, False)(x)  # (batch_size, 128, 128, 64)\n",
    "    down2 = downsample(128, 4)(down1)  # (batch_size, 64, 64, 128)\n",
    "    #down3 = downsample(256, 4)(down2)  # (batch_size, 32, 32, 256)\n",
    "    zero_pad1 = tf.keras.layers.ZeroPadding2D()(down2)  # (batch_size, 34, 34, 256)\n",
    "    conv = tf.keras.layers.Conv2D(512, 4, strides=1,kernel_initializer=initializer,use_bias=False)(zero_pad1)  # (batch_size, 31, 31, 512)\n",
    "\n",
    "    batchnorm1 = tf.keras.layers.BatchNormalization()(conv)\n",
    "\n",
    "    leaky_relu = tf.keras.layers.LeakyReLU()(batchnorm1)\n",
    "\n",
    "    zero_pad2 = tf.keras.layers.ZeroPadding2D()(leaky_relu)  # (batch_size, 33, 33, 512)\n",
    "\n",
    "    last = tf.keras.layers.Conv2D(1, 4, strides=1,\n",
    "                                kernel_initializer=initializer)(zero_pad2)  # (batch_size, 30, 30, 1)\n",
    "\n",
    "    return tf.keras.Model(inputs=[inp, tar], outputs=last)"
   ]
  },
  {
   "cell_type": "code",
   "execution_count": null,
   "id": "202e724c-5976-41ee-acd3-30725f6d2fe3",
   "metadata": {
    "tags": []
   },
   "outputs": [],
   "source": [
    "discriminator = Discriminator()\n",
    "tf.keras.utils.plot_model(discriminator, show_shapes=True, dpi=64)"
   ]
  },
  {
   "cell_type": "code",
   "execution_count": null,
   "id": "969fbc37-980f-442f-a76c-b4601892c317",
   "metadata": {
    "tags": []
   },
   "outputs": [],
   "source": [
    "disc_out = discriminator([y[tf.newaxis, ...], gen_output], training=False)\n",
    "#print(disc_out)\n",
    "plt.imshow(disc_out[0, ..., -1], vmin=-0.2, vmax=0.2, cmap='RdYlGn')\n",
    "plt.colorbar()"
   ]
  },
  {
   "cell_type": "code",
   "execution_count": null,
   "id": "ff6d4ff4-b13d-459e-a1f6-d676706ea902",
   "metadata": {
    "tags": []
   },
   "outputs": [],
   "source": [
    "def discriminator_loss(disc_real_output, disc_generated_output):\n",
    "    real_loss = loss_object(tf.ones_like(disc_real_output), disc_real_output)\n",
    "    generated_loss = loss_object(tf.zeros_like(disc_generated_output), disc_generated_output)\n",
    "\n",
    "    total_disc_loss = real_loss + generated_loss\n",
    "    return total_disc_loss"
   ]
  },
  {
   "cell_type": "code",
   "execution_count": null,
   "id": "3a3278d9-8a59-443b-b825-613fce026585",
   "metadata": {
    "tags": []
   },
   "outputs": [],
   "source": [
    "generator_optimizer = tf.keras.optimizers.Adam(2e-4, beta_1=0.5)\n",
    "discriminator_optimizer = tf.keras.optimizers.Adam(2e-4, beta_1=0.5)"
   ]
  },
  {
   "cell_type": "code",
   "execution_count": null,
   "id": "80faf6e9-422d-4e93-b334-bc113e468031",
   "metadata": {
    "tags": []
   },
   "outputs": [],
   "source": [
    "checkpoint_dir = './training_checkpoints'\n",
    "checkpoint_prefix = os.path.join(checkpoint_dir, \"ckpt\")\n",
    "checkpoint = tf.train.Checkpoint(generator_optimizer=generator_optimizer,\n",
    "                                 discriminator_optimizer=discriminator_optimizer,\n",
    "                                 generator=generator,\n",
    "                                 discriminator=discriminator)"
   ]
  },
  {
   "cell_type": "code",
   "execution_count": null,
   "id": "70bbbb92-fc8c-44ef-8157-5b24ea73921f",
   "metadata": {
    "tags": []
   },
   "outputs": [],
   "source": [
    "input_img_affines = [] \n",
    "for image in test_mri_images:\n",
    "    img = nib.load(image)\n",
    "    input_img_affines.append(img.affine)"
   ]
  },
  {
   "cell_type": "code",
   "execution_count": null,
   "id": "483ff470-43cc-40dc-bf3c-1573aa42e836",
   "metadata": {
    "tags": []
   },
   "outputs": [],
   "source": [
    "import os\n",
    "\n",
    "output_path = \"Output/\"\n",
    "test_path = \"Test/\"\n",
    "\n",
    "counter = 0\n",
    "\n",
    "def generate_images(model, test_input, tar, save=False):\n",
    "    global counter\n",
    "    prediction = model(test_input, training=True)\n",
    "    #print(tar.shape)\n",
    "    if save == True:\n",
    "        for pred in prediction:\n",
    "            output_filename = os.path.join(output_path, f\"{counter}.nii\")\n",
    "            test_filename = os.path.join(test_path, f\"{counter}.nii\")\n",
    "            \n",
    "            output_img = nib.Nifti1Image(pred.numpy(), affine=input_img_affines[counter%len(input_img_affines)])\n",
    "            original_img = nib.Nifti1Image(tar[counter%len(input_img_affines)].numpy(),affine=input_img_affines[counter%len(input_img_affines)])\n",
    "            \n",
    "            nib.save(output_img, output_filename)\n",
    "            nib.save(original_img, test_filename)\n",
    "            \n",
    "            counter = counter + 1\n",
    "                       \n",
    "    plt.figure(figsize=(15, 15))\n",
    "    display_list = [test_input[0][0], tar[0][0], prediction[0][0]]\n",
    "    title = ['Input Image', 'Ground Truth', 'Predicted Image']\n",
    "\n",
    "    for i in range(3):\n",
    "        plt.subplot(1, 3, i+1)\n",
    "        plt.title(title[i])\n",
    "        # Getting the pixel values in the [0, 1] range to plot.\n",
    "        plt.imshow(display_list[i] * 0.5 + 0.5, cmap='gray')\n",
    "        plt.axis('off')\n",
    "    plt.show()"
   ]
  },
  {
   "cell_type": "code",
   "execution_count": null,
   "id": "0ac0bc69-c8c1-4957-be1c-c8d645e5bc00",
   "metadata": {
    "tags": []
   },
   "outputs": [],
   "source": [
    "for example_input, example_target in test_dataset.take(1):\n",
    "    generate_images(generator, example_input, example_target)"
   ]
  },
  {
   "cell_type": "code",
   "execution_count": 33,
   "id": "a4e6b2b7-7543-4c60-84da-e155e6a3253d",
   "metadata": {
    "tags": []
   },
   "outputs": [],
   "source": [
    "import datetime\n",
    "log_dir=\"logs/\"\n",
    "\n",
    "summary_writer = tf.summary.create_file_writer(\n",
    "  log_dir + \"fit/\" + datetime.datetime.now().strftime(\"%Y%m%d-%H%M%S\"))"
   ]
  },
  {
   "cell_type": "code",
   "execution_count": 34,
   "id": "e1e0aa0a-2644-4cd4-a362-61d82f1883aa",
   "metadata": {
    "tags": []
   },
   "outputs": [],
   "source": [
    "@tf.function\n",
    "def train_step(input_image, target, step):\n",
    "    with tf.GradientTape() as gen_tape, tf.GradientTape() as disc_tape:\n",
    "        gen_output = generator(input_image, training=True)\n",
    "    \n",
    "        disc_real_output = discriminator([input_image, target], training=True)\n",
    "        disc_generated_output = discriminator([input_image, gen_output], training=True)\n",
    "\n",
    "        gen_total_loss, gen_gan_loss, gen_l1_loss = generator_loss(disc_generated_output, gen_output, target)\n",
    "        disc_loss = discriminator_loss(disc_real_output, disc_generated_output)\n",
    "\n",
    "    generator_gradients = gen_tape.gradient(gen_total_loss,\n",
    "                                          generator.trainable_variables)\n",
    "    discriminator_gradients = disc_tape.gradient(disc_loss,\n",
    "                                               discriminator.trainable_variables)\n",
    "\n",
    "    generator_optimizer.apply_gradients(zip(generator_gradients,\n",
    "                                          generator.trainable_variables))\n",
    "    discriminator_optimizer.apply_gradients(zip(discriminator_gradients,\n",
    "                                              discriminator.trainable_variables))\n",
    "\n",
    "    with summary_writer.as_default():\n",
    "        tf.summary.scalar('gen_total_loss', gen_total_loss, step=step//1000)\n",
    "        tf.summary.scalar('gen_gan_loss', gen_gan_loss, step=step//1000)\n",
    "        tf.summary.scalar('gen_l1_loss', gen_l1_loss, step=step//1000)\n",
    "        tf.summary.scalar('disc_loss', disc_loss, step=step//1000)"
   ]
  },
  {
   "cell_type": "code",
   "execution_count": 35,
   "id": "8da35188-cbef-4054-9783-48c770b43aa8",
   "metadata": {
    "tags": []
   },
   "outputs": [],
   "source": [
    "def fit(train_ds, test_ds, steps):\n",
    "    example_input, example_target = next(iter(test_ds.take(1)))\n",
    "    start = time.time()\n",
    "\n",
    "    for step, (input_image, target) in train_ds.repeat().take(steps).enumerate():\n",
    "        if (step) % 1000 == 0:\n",
    "            display.clear_output(wait=True)\n",
    "\n",
    "            if step != 0:\n",
    "                print(f'Time taken for 1000 steps: {time.time()-start:.2f} sec\\n')\n",
    "            start = time.time()\n",
    "            generate_images(generator, example_input, example_target)\n",
    "            print(f\"Step: {step//1000}k\")\n",
    "        train_step(input_image, target, step)\n",
    "\n",
    "    # Training step\n",
    "        if (step+1) % 100 == 0:\n",
    "            print('.', end='', flush=True)\n",
    "\n",
    "\n",
    "    # Save (checkpoint) the model every 5k steps\n",
    "        if (step + 1) % 5000 == 0:\n",
    "            checkpoint.save(file_prefix=checkpoint_prefix)"
   ]
  },
  {
   "cell_type": "code",
   "execution_count": 36,
   "id": "a52de334-0319-47a6-81fc-6aea9a15759f",
   "metadata": {
    "tags": []
   },
   "outputs": [
    {
     "data": {
      "text/plain": [
       "Reusing TensorBoard on port 6006 (pid 4732), started 2 days, 9:54:47 ago. (Use '!kill 4732' to kill it.)"
      ]
     },
     "metadata": {},
     "output_type": "display_data"
    },
    {
     "data": {
      "text/html": [
       "\n",
       "      <iframe id=\"tensorboard-frame-b29ba97206b1439f\" width=\"100%\" height=\"800\" frameborder=\"0\">\n",
       "      </iframe>\n",
       "      <script>\n",
       "        (function() {\n",
       "          const frame = document.getElementById(\"tensorboard-frame-b29ba97206b1439f\");\n",
       "          const url = new URL(\"/\", window.location);\n",
       "          const port = 6006;\n",
       "          if (port) {\n",
       "            url.port = port;\n",
       "          }\n",
       "          frame.src = url;\n",
       "        })();\n",
       "      </script>\n",
       "    "
      ],
      "text/plain": [
       "<IPython.core.display.HTML object>"
      ]
     },
     "metadata": {},
     "output_type": "display_data"
    }
   ],
   "source": [
    "#%reload_ext tensorboard\n",
    "%load_ext tensorboard\n",
    "import time\n",
    "%tensorboard --logdir {log_dir}"
   ]
  },
  {
   "cell_type": "code",
   "execution_count": 42,
   "id": "e1fd8ed6-9c86-4cae-9340-7d4be9f4e430",
   "metadata": {},
   "outputs": [],
   "source": [
    "from IPython import display\n",
    "counter = 0\n",
    "#fit(train_dataset, test_dataset, steps=50000)"
   ]
  },
  {
   "cell_type": "code",
   "execution_count": 43,
   "id": "ee140820-6adf-4580-bc1b-e31b565e2dd8",
   "metadata": {
    "tags": []
   },
   "outputs": [
    {
     "data": {
      "text/plain": [
       "ERROR: Failed to launch TensorBoard (exited with 1).\n",
       "Contents of stderr:\n",
       "***** TensorBoard Uploader *****\n",
       "\n",
       "This will upload your TensorBoard logs to https://tensorboard.dev/ from\n",
       "the following directory:\n",
       "\n",
       "logs/\n",
       "\n",
       "This TensorBoard will be visible to everyone. Do not upload sensitive\n",
       "data.\n",
       "\n",
       "Your use of this service is subject to Google's Terms of Service\n",
       "<https://policies.google.com/terms> and Privacy Policy\n",
       "<https://policies.google.com/privacy>, and TensorBoard.dev's Terms of Service\n",
       "<https://tensorboard.dev/policy/terms/>.\n",
       "\n",
       "This notice will not be shown again while you are logged into the uploader.\n",
       "To log out, run `tensorboard dev auth revoke`.\n",
       "\n",
       "Traceback (most recent call last):\n",
       "  File \"C:\\Users\\007sh\\AppData\\Local\\Programs\\Python\\Python39\\lib\\runpy.py\", line 197, in _run_module_as_main\n",
       "    return _run_code(code, main_globals, None,\n",
       "  File \"C:\\Users\\007sh\\AppData\\Local\\Programs\\Python\\Python39\\lib\\runpy.py\", line 87, in _run_code\n",
       "    exec(code, run_globals)\n",
       "  File \"C:\\Users\\007sh\\AppData\\Local\\Programs\\Python\\Python39\\Scripts\\tensorboard.exe\\__main__.py\", line 7, in <module>\n",
       "  File \"C:\\Users\\007sh\\AppData\\Local\\Programs\\Python\\Python39\\lib\\site-packages\\tensorboard\\main.py\", line 46, in run_main\n",
       "    app.run(tensorboard.main, flags_parser=tensorboard.configure)\n",
       "  File \"C:\\Users\\007sh\\AppData\\Local\\Programs\\Python\\Python39\\lib\\site-packages\\absl\\app.py\", line 308, in run\n",
       "    _run_main(main, args)\n",
       "  File \"C:\\Users\\007sh\\AppData\\Local\\Programs\\Python\\Python39\\lib\\site-packages\\absl\\app.py\", line 254, in _run_main\n",
       "    sys.exit(main(argv))\n",
       "  File \"C:\\Users\\007sh\\AppData\\Local\\Programs\\Python\\Python39\\lib\\site-packages\\tensorboard\\program.py\", line 276, in main\n",
       "    return runner(self.flags) or 0\n",
       "  File \"C:\\Users\\007sh\\AppData\\Local\\Programs\\Python\\Python39\\lib\\site-packages\\tensorboard\\uploader\\uploader_subcommand.py\", line 691, in run\n",
       "    return _run(flags, self._experiment_url_callback)\n",
       "  File \"C:\\Users\\007sh\\AppData\\Local\\Programs\\Python\\Python39\\lib\\site-packages\\tensorboard\\uploader\\uploader_subcommand.py\", line 93, in _run\n",
       "    _prompt_for_user_ack(intent)\n",
       "  File \"C:\\Users\\007sh\\AppData\\Local\\Programs\\Python\\Python39\\lib\\site-packages\\tensorboard\\uploader\\uploader_subcommand.py\", line 66, in _prompt_for_user_ack\n",
       "    response = input(\"Continue? (yes/NO) \")\n",
       "EOFError: EOF when reading a line\n",
       "Contents of stdout:\n",
       "Continue? (yes/NO)"
      ]
     },
     "metadata": {},
     "output_type": "display_data"
    }
   ],
   "source": [
    "tensorboard dev upload --logdir {log_dir}"
   ]
  },
  {
   "cell_type": "code",
   "execution_count": 55,
   "id": "6695524c-3ae3-4454-bc60-844b594f6cd3",
   "metadata": {
    "tags": []
   },
   "outputs": [
    {
     "data": {
      "text/plain": [
       "<tensorflow.python.checkpoint.checkpoint.CheckpointLoadStatus at 0x2012aa97b20>"
      ]
     },
     "execution_count": 55,
     "metadata": {},
     "output_type": "execute_result"
    }
   ],
   "source": [
    "#checkpoint.restore(tf.train.latest_checkpoint(checkpoint_dir))"
   ]
  },
  {
   "cell_type": "code",
   "execution_count": 56,
   "id": "79eaf890-a0c6-4cc4-819d-712d21197a30",
   "metadata": {
    "tags": []
   },
   "outputs": [
    {
     "data": {
      "text/html": [
       "\n",
       "        <iframe\n",
       "            width=\"100%\"\n",
       "            height=\"1000px\"\n",
       "            src=\"https://tensorboard.dev/experiment/lZ0C6FONROaUMfjYkVyJqw\"\n",
       "            frameborder=\"0\"\n",
       "            allowfullscreen\n",
       "            \n",
       "        ></iframe>\n",
       "        "
      ],
      "text/plain": [
       "<IPython.lib.display.IFrame at 0x2012b3f8910>"
      ]
     },
     "execution_count": 56,
     "metadata": {},
     "output_type": "execute_result"
    }
   ],
   "source": [
    "display.IFrame(\n",
    "    src=\"https://tensorboard.dev/experiment/lZ0C6FONROaUMfjYkVyJqw\",\n",
    "    width=\"100%\",\n",
    "    height=\"1000px\")"
   ]
  },
  {
   "cell_type": "code",
   "execution_count": 61,
   "id": "ac30049e-ed37-4e43-aff3-b49bf29f5bea",
   "metadata": {
    "tags": []
   },
   "outputs": [
    {
     "name": "stdout",
     "output_type": "stream",
     "text": [
      "(4, 32, 32, 32)\n"
     ]
    },
    {
     "data": {
      "image/png": "[encoded data removed]",
      "text/plain": [
       "<Figure size 1500x1500 with 3 Axes>"
      ]
     },
     "metadata": {},
     "output_type": "display_data"
    },
    {
     "name": "stdout",
     "output_type": "stream",
     "text": [
      "(4, 32, 32, 32)\n"
     ]
    },
    {
     "data": {
      "image/png": "[encoded data removed]",
      "text/plain": [
       "<Figure size 1500x1500 with 3 Axes>"
      ]
     },
     "metadata": {},
     "output_type": "display_data"
    },
    {
     "name": "stdout",
     "output_type": "stream",
     "text": [
      "(4, 32, 32, 32)\n"
     ]
    },
    {
     "data": {
      "image/png": "[encoded data removed]",
      "text/plain": [
       "<Figure size 1500x1500 with 3 Axes>"
      ]
     },
     "metadata": {},
     "output_type": "display_data"
    },
    {
     "name": "stdout",
     "output_type": "stream",
     "text": [
      "(4, 32, 32, 32)\n"
     ]
    },
    {
     "data": {
      "image/png": "[encoded data removed]",
      "text/plain": [
       "<Figure size 1500x1500 with 3 Axes>"
      ]
     },
     "metadata": {},
     "output_type": "display_data"
    }
   ],
   "source": [
    "# Run the trained model on a few examples from the test set\n",
    "counter = 0\n",
    "for inp, tar in test_dataset.take(4):\n",
    "    print(inp.shape)\n",
    "    generate_images(generator, inp, tar, save = True)"
   ]
  },
  {
   "cell_type": "code",
   "execution_count": null,
   "id": "16c6768d-603f-4834-93c9-c94d57d81861",
   "metadata": {},
   "outputs": [],
   "source": []
  }
 ],
 "metadata": {
  "kernelspec": {
   "display_name": "Python 3 (ipykernel)",
   "language": "python",
   "name": "python3"
  },
  "language_info": {
   "codemirror_mode": {
    "name": "ipython",
    "version": 3
   },
   "file_extension": ".py",
   "mimetype": "text/x-python",
   "name": "python",
   "nbconvert_exporter": "python",
   "pygments_lexer": "ipython3",
   "version": "3.11.1"
  }
 },
 "nbformat": 4,
 "nbformat_minor": 5
}
